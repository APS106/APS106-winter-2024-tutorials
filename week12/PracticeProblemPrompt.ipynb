{
 "cells": [
  {
   "cell_type": "markdown",
   "id": "e3602bf0",
   "metadata": {},
   "source": [
    "# Coding Question 1\n",
    "Write a Python function count_vowels to count the frequency of vowels in a file. The input file is provided on Tutorial Quercus page. \n",
    "\n",
    "Usage example:\n",
    "> count_vowels(</path/to/file>)\n",
    ">>    {'a': 29, 'e': 40, 'i': 40, 'o': 29, 'u': 4}\n",
    "\n",
    "\n",
    "\n"
   ]
  },
  {
   "cell_type": "code",
   "execution_count": 20,
   "id": "d43e4d70",
   "metadata": {},
   "outputs": [],
   "source": [
    "def count_vowels(filepath):\n",
    "    #first we read the file\n",
    "    \n",
    "    #CODE HERE\n",
    "    \n",
    "    #set up the dictionary we will use\n",
    "    \n",
    "    #CODE HERE\n",
    "    \n",
    "    #we loop through each character and check to see if it is a vowel\n",
    "    \n",
    "    #CODE HERE\n",
    "    \n",
    "    return final_dict"
   ]
  },
  {
   "cell_type": "code",
   "execution_count": null,
   "id": "142c3438",
   "metadata": {},
   "outputs": [],
   "source": [
    "#Should return true\n",
    "print(count_vowels('q1file.txt')=={'a': 29, 'e': 40, 'i': 40, 'o': 29, 'u': 4})"
   ]
  },
  {
   "cell_type": "markdown",
   "id": "f580485d",
   "metadata": {},
   "source": [
    "# Coding Question 2\n",
    "Write a Python function maximal_subsets() that takes in a csv filepath and returns the maximal subsets in that file. \n",
    "You are given a file where each line of the file represents the values of a set.\n",
    "\n",
    "Step 1: Convert the file into a list of sets.\n",
    "> see tutorial slide for example\n",
    "\n",
    "Step 2:  Given the list of sets, find the maximal subsets (i.e. removing all sets that are subsets of other sets).\n",
    "\n",
    ">For example, for a given list of sets: \n",
    "[{1, 2, 3}, {1, 2, 3}, {1, 2}, {2, 3}, {2, 4}] \n",
    "\n",
    ">The maximal subsets are:\n",
    "[{1, 2, 3}, {1, 2, 3}, {2, 4}]\n",
    " \n",
    "The function will take in a file name and return the maximal subsets\n",
    "\n"
   ]
  },
  {
   "cell_type": "code",
   "execution_count": 37,
   "id": "0ed09e4a",
   "metadata": {},
   "outputs": [],
   "source": [
    "def maximal_subsets(filepath):\n",
    "    \n",
    "    #STEP 1:\n",
    "    \n",
    "    #this is the list of sets we will have\n",
    "    input_sets = []\n",
    "    #read the csv file and make the sets\n",
    "    \n",
    "    #CODE HERE\n",
    "\n",
    "    #STEP 2:\n",
    "            \n",
    "    #this is the list of sets we will output\n",
    "    output_sets = []\n",
    "    #we go through each set, look at all the other sets, and then if it is not a subset of the rest, we save it\n",
    "    for big_set in input_sets:\n",
    "        #this will keep track of whether this current set is a subset of the other ones\n",
    "        isSubset = False\n",
    "        #go through the other sets\n",
    "        for small_set in input_sets:\n",
    "            \n",
    "            #if this set is a subset of another bigger set, that means it is not a maximal set\n",
    "            \n",
    "            #CODE HERE\n",
    "            \n",
    "        #this set is not a subset of another one, therefore it is a maximal set\n",
    "        \n",
    "        #CODE HERE\n",
    "    \n",
    "    return output_sets"
   ]
  },
  {
   "cell_type": "code",
   "execution_count": null,
   "id": "e22112bf",
   "metadata": {},
   "outputs": [],
   "source": [
    "#should return true\n",
    "print(maximal_subsets('q2file.csv') == [{3, 4, 6, 7, 9, 10}, {2, 4, 5, 6, 7, 10}, {2, 3, 7, 8, 9}, {3, 4, 5, 7, 10}, {3, 4, 5, 8, 9}, {3, 5, 6, 8, 9}, {4, 5, 6, 9, 10}, {3, 7, 8, 9, 10, 11}, {11, 5, 7}, {8, 4, 6, 7}, {2, 5, 6, 8, 9, 10, 11}, {2, 3, 6, 8, 10}])"
   ]
  }
 ],
 "metadata": {
  "kernelspec": {
   "display_name": "Python 3 (ipykernel)",
   "language": "python",
   "name": "python3"
  },
  "language_info": {
   "codemirror_mode": {
    "name": "ipython",
    "version": 3
   },
   "file_extension": ".py",
   "mimetype": "text/x-python",
   "name": "python",
   "nbconvert_exporter": "python",
   "pygments_lexer": "ipython3",
   "version": "3.10.8"
  }
 },
 "nbformat": 4,
 "nbformat_minor": 5
}
