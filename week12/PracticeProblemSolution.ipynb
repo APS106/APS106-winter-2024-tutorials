{
 "cells": [
  {
   "cell_type": "markdown",
   "id": "87aa29da",
   "metadata": {},
   "source": [
    "# Coding Question 1\n",
    "Write a Python function count_vowels to count the frequency of vowels in a file. The input file is provided on Tutorial Quercus page. \n",
    "\n",
    "Usage example:\n",
    "> count_vowels(</path/to/file>)\n",
    ">>    {'a': 29, 'e': 40, 'i': 40, 'o': 29, 'u': 4}\n",
    "\n",
    "\n",
    "\n"
   ]
  },
  {
   "cell_type": "code",
   "execution_count": 1,
   "id": "fe4d5aec",
   "metadata": {},
   "outputs": [],
   "source": [
    "def count_vowels(filepath):\n",
    "    #first we read the file\n",
    "    with open(filepath, 'r') as f:\n",
    "        content = f.read()\n",
    "    #set up the dictionary we will use\n",
    "    final_dict = {'a':0, 'e':0, \"i\":0, \"o\":0, 'u':0}\n",
    "    #we loop through each character and check to see if it is a vowel\n",
    "    for char in content:\n",
    "        #if it is we update that value\n",
    "        if char in ('a', 'e', 'i', 'o', 'u'):\n",
    "            final_dict[char] += 1\n",
    "    return final_dict"
   ]
  },
  {
   "cell_type": "code",
   "execution_count": 2,
   "id": "29a5616b",
   "metadata": {},
   "outputs": [
    {
     "name": "stdout",
     "output_type": "stream",
     "text": [
      "True\n"
     ]
    }
   ],
   "source": [
    "#Should return true\n",
    "print(count_vowels('q1file.txt')=={'a': 29, 'e': 40, 'i': 40, 'o': 29, 'u': 4})"
   ]
  },
  {
   "cell_type": "markdown",
   "id": "ce18486a",
   "metadata": {},
   "source": [
    "# Coding Question 2\n",
    "Write a Python function maximal_subsets() that takes in a csv filepath and returns the maximal subsets in that file. \n",
    "You are given a file where each line of the file represents the values of a set.\n",
    "\n",
    "Step 1: Convert the file into a list of sets.\n",
    "> see tutorial slide for example\n",
    "\n",
    "Step 2:  Given the list of sets, find the maximal subsets (i.e. removing all sets that are subsets of other sets).\n",
    "\n",
    ">For example, for a given list of sets: \n",
    "[{1, 2, 3}, {1, 2, 3}, {1, 2}, {2, 3}, {2, 4}] \n",
    "\n",
    ">The maximal subsets are:\n",
    "[{1, 2, 3}, {1, 2, 3}, {2, 4}]\n",
    " \n",
    "The function will take in a file name and return the maximal subsets\n",
    "\n"
   ]
  },
  {
   "cell_type": "code",
   "execution_count": 3,
   "id": "349e4444",
   "metadata": {},
   "outputs": [],
   "source": [
    "def maximal_subsets(filepath):\n",
    "    \n",
    "    #STEP 1:\n",
    "    \n",
    "    #this is the list of sets we will have\n",
    "    input_sets = []\n",
    "    #read the csv file and make the sets\n",
    "    with open(filepath, \"r\") as f:\n",
    "        #we go through each line in the file\n",
    "        for line in f.readlines():\n",
    "            line_as_list = [] #this will contain the line as a list\n",
    "            #split the string into a list split by commas\n",
    "            for i in line.split(\",\"):\n",
    "                #cast as integer and add into the list\n",
    "                int_i = int(i)\n",
    "                line_as_list.append(int_i)\n",
    "            #convert the list to a set and add it to our list of sets\n",
    "            line_as_set = set(line_as_list)\n",
    "            input_sets.append(line_as_set)\n",
    "\n",
    "    #STEP 2:\n",
    "            \n",
    "    #this is the list of sets we will output\n",
    "    output_sets = []\n",
    "    #we go through each set, look at all the other sets, and then if it is not a subset of the rest, we save it\n",
    "    for big_set in input_sets:\n",
    "        #this will keep track of whether this current set is a subset of the other ones\n",
    "        isSubset = False\n",
    "        #go through the other sets\n",
    "        for small_set in input_sets:\n",
    "            #if this set is a subset of another bigger set, that means it is not a maximal set\n",
    "            if big_set.issubset(small_set) and len(big_set) < len(small_set):\n",
    "                isSubset = True\n",
    "        #this set is not a subset of another one, therefore it is a maximal set\n",
    "        if not isSubset:\n",
    "            output_sets.append(big_set)\n",
    "    \n",
    "    return output_sets"
   ]
  },
  {
   "cell_type": "code",
   "execution_count": 4,
   "id": "2a3356a1",
   "metadata": {},
   "outputs": [
    {
     "name": "stdout",
     "output_type": "stream",
     "text": [
      "True\n"
     ]
    }
   ],
   "source": [
    "#should return true\n",
    "print(maximal_subsets('q2file.csv') == [{3, 4, 6, 7, 9, 10}, {2, 4, 5, 6, 7, 10}, {2, 3, 7, 8, 9}, {3, 4, 5, 7, 10}, {3, 4, 5, 8, 9}, {3, 5, 6, 8, 9}, {4, 5, 6, 9, 10}, {3, 7, 8, 9, 10, 11}, {11, 5, 7}, {8, 4, 6, 7}, {2, 5, 6, 8, 9, 10, 11}, {2, 3, 6, 8, 10}])"
   ]
  }
 ],
 "metadata": {
  "kernelspec": {
   "display_name": "Python 3 (ipykernel)",
   "language": "python",
   "name": "python3"
  },
  "language_info": {
   "codemirror_mode": {
    "name": "ipython",
    "version": 3
   },
   "file_extension": ".py",
   "mimetype": "text/x-python",
   "name": "python",
   "nbconvert_exporter": "python",
   "pygments_lexer": "ipython3",
   "version": "3.10.8"
  }
 },
 "nbformat": 4,
 "nbformat_minor": 5
}
