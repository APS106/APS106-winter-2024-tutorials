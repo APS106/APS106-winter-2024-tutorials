{
 "cells": [
  {
   "cell_type": "markdown",
   "id": "c71de817",
   "metadata": {},
   "source": [
    "# Coding Question 1\n",
    "Write a function sort_list() that takes in a list of integers, sorts it in an ascending order, and returns the sorted list. \n",
    "The function should not modify the original input list: that list must remain unchanged\n",
    "\n",
    "\n",
    "\n",
    "\n",
    "\n",
    "\n"
   ]
  },
  {
   "cell_type": "code",
   "execution_count": 26,
   "id": "762dbb0c",
   "metadata": {},
   "outputs": [],
   "source": [
    "   \n",
    "def sort_list(g_list):\n",
    "    #in order to not modify the original list, we have to copy it and sort that list instead\n",
    "    cloned_list = g_list.copy()\n",
    "    cloned_list.sort()\n",
    "    return cloned_list\n",
    "\n",
    "\n",
    "#THIS FOLLOWING SOLUTION DOES NOT WORK\n",
    "# sort will sort the original list, yo ucan uncomment the code to test with the underlying test case\n",
    "# def sort_list(g_list):\n",
    "#     g_list.sort()\n",
    "#     return g_list"
   ]
  },
  {
   "cell_type": "code",
   "execution_count": 27,
   "id": "bf152ccb",
   "metadata": {},
   "outputs": [
    {
     "name": "stdout",
     "output_type": "stream",
     "text": [
      "True\n"
     ]
    }
   ],
   "source": [
    "my_list = [48, 39, 1, 444, 39,2398]\n",
    "print(sort_list(my_list) == [1,  39, 39, 48, 444, 2398] and my_list == [48, 39, 1, 444, 39,2398])\n",
    "#should return True"
   ]
  },
  {
   "cell_type": "markdown",
   "id": "b3f60cf4",
   "metadata": {},
   "source": [
    "# Coding Question 2\n",
    "Write a program that repeatedly asks the user for grocery items (strings) until the user inputs ‘exit’, then display all their grocery items in alphabetical order.\n",
    "\n",
    "\n",
    "Hint:\n",
    "\tYou can use question 1 to alphabetize the list\n",
    "\n",
    "\n",
    "\n",
    "\n",
    "\n",
    "\n",
    "\n"
   ]
  },
  {
   "cell_type": "code",
   "execution_count": 28,
   "id": "d7f76636",
   "metadata": {},
   "outputs": [
    {
     "name": "stdout",
     "output_type": "stream",
     "text": [
      "Please input one of your grocery items (input \"exit\" when done)tomatoes\n",
      "Please input one of your grocery items (input \"exit\" when done)kiwis\n",
      "Please input one of your grocery items (input \"exit\" when done)apples\n",
      "Please input one of your grocery items (input \"exit\" when done)bananas\n",
      "Please input one of your grocery items (input \"exit\" when done)exit\n",
      "Here are your groceries in alphabetical order:  ['apples', 'bananas', 'kiwis', 'tomatoes']\n"
     ]
    }
   ],
   "source": [
    "grocery = '' #the initial variable is empty, this is such that the loop condition is not an error during initial run\n",
    "groceries = [] #list is empty before anything is added to it\n",
    "while grocery != 'exit':\n",
    "    grocery = input('Please input one of your grocery items (input \"exit\" when done)')\n",
    "    groceries.append(grocery)\n",
    "\n",
    "#this removes the last element that was added to the list, since \"exit\" needs to be input to exit the loop\n",
    "# it will always be the last item\n",
    "groceries.pop(-1)\n",
    "#sort works with strings, acoording to ASCII values\n",
    "print('Here are your groceries in alphabetical order: ', sort_list(groceries))"
   ]
  }
 ],
 "metadata": {
  "kernelspec": {
   "display_name": "Python 3 (ipykernel)",
   "language": "python",
   "name": "python3"
  },
  "language_info": {
   "codemirror_mode": {
    "name": "ipython",
    "version": 3
   },
   "file_extension": ".py",
   "mimetype": "text/x-python",
   "name": "python",
   "nbconvert_exporter": "python",
   "pygments_lexer": "ipython3",
   "version": "3.10.8"
  }
 },
 "nbformat": 4,
 "nbformat_minor": 5
}
