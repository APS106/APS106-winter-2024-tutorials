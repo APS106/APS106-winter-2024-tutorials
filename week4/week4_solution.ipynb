{
 "cells": [
  {
   "cell_type": "markdown",
   "metadata": {},
   "source": [
    "## Write a function that takes in 3 points, and returns the distance of the two points that are closest to each other.\n",
    "\n",
    "#### The easiest way is to segment this problem into two functions: (1) one to find the distance between two points, (2) one that finds the minimum distance between 3 points:"
   ]
  },
  {
   "cell_type": "code",
   "execution_count": 1,
   "metadata": {},
   "outputs": [],
   "source": [
    "import math\n",
    "\n",
    "def getDistance(x1,y1,x2,y2):\n",
    "    distance = math.sqrt((x1 - x2)** 2 + (y1 - y2)**2)\n",
    "    return distance\n",
    "\n",
    "def closest_points(x1, y1, x2, y2, x3, y3):\n",
    "    \n",
    "    distance1_2 = getDistance(x1, y1, x2, y2)\n",
    "    distance1_3 = getDistance(x1, y1, x3, y3)\n",
    "    distance2_3 = getDistance(x2, y2, x3, y3)\n",
    "    \n",
    "    if min(distance1_2, distance1_3, distance2_3) == distance1_2:\n",
    "        return distance1_2\n",
    "    elif min(distance1_2, distance1_3, distance2_3) == distance1_3:\n",
    "        return distance1_3\n",
    "    else:\n",
    "        return distance2_3"
   ]
  },
  {
   "cell_type": "markdown",
   "metadata": {},
   "source": [
    "#### Let's test that our `getDistance` function works with the following points:\n",
    "- (1,1)\n",
    "- (1,1)\n",
    "\n",
    "Result should be zero!"
   ]
  },
  {
   "cell_type": "code",
   "execution_count": 4,
   "metadata": {},
   "outputs": [
    {
     "name": "stdout",
     "output_type": "stream",
     "text": [
      "0.0\n"
     ]
    }
   ],
   "source": [
    "print(getDistance(1,1,1,1))"
   ]
  },
  {
   "cell_type": "markdown",
   "metadata": {},
   "source": [
    "#### Let's test that our `getDistance` function works with the following points:\n",
    "- (0,0)\n",
    "- (1,1)\n",
    "\n",
    "Distance should be 1.414... (sqrt of 2)"
   ]
  },
  {
   "cell_type": "code",
   "execution_count": 10,
   "metadata": {},
   "outputs": [
    {
     "name": "stdout",
     "output_type": "stream",
     "text": [
      "1.4142135623730951\n"
     ]
    }
   ],
   "source": [
    "print(getDistance(0, 0, 1, 1))"
   ]
  },
  {
   "cell_type": "markdown",
   "metadata": {},
   "source": [
    "#### Let's test our other function, which finds the closest points.\n",
    "\n",
    "We'll pass in the following points:\n",
    "- (1,1)\n",
    "- (3,3)\n",
    "- (4,4)\n",
    "\n",
    "We should see the `(3,3)` and `(4,4)` are closer!\n"
   ]
  },
  {
   "cell_type": "code",
   "execution_count": 2,
   "metadata": {},
   "outputs": [
    {
     "name": "stdout",
     "output_type": "stream",
     "text": [
      "True\n"
     ]
    }
   ],
   "source": [
    "#Testing\n",
    "print(closest_points(1,1,4,3,3,3) == getDistance(4,3,3,3))"
   ]
  }
 ],
 "metadata": {
  "kernelspec": {
   "display_name": "imi_env",
   "language": "python",
   "name": "python3"
  },
  "language_info": {
   "codemirror_mode": {
    "name": "ipython",
    "version": 3
   },
   "file_extension": ".py",
   "mimetype": "text/x-python",
   "name": "python",
   "nbconvert_exporter": "python",
   "pygments_lexer": "ipython3",
   "version": "3.11.7"
  }
 },
 "nbformat": 4,
 "nbformat_minor": 2
}
