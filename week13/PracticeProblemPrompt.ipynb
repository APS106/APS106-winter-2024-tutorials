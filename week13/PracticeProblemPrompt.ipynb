{
 "cells": [
  {
   "cell_type": "code",
   "execution_count": null,
   "metadata": {},
   "outputs": [],
   "source": [
    "def genre_titles(df, target_genre, keyword):\n",
    "    \n",
    "    \"\"\"\n",
    "    arguments: df (Pandas dataframe), target_genre = string, keyword = string\n",
    "    returns: dict (key = equal to target_genre, values = list of book titles)\n",
    "    \"\"\"\n"
   ]
  },
  {
   "cell_type": "code",
   "execution_count": null,
   "metadata": {},
   "outputs": [],
   "source": [
    "# read in dataframe from csv"
   ]
  },
  {
   "cell_type": "code",
   "execution_count": null,
   "metadata": {},
   "outputs": [],
   "source": [
    "#Should return true\n",
    "print(genre_titles(df,\"Fiction\",'great')=={'Fiction': ['The Great Gatsby']})"
   ]
  },
  {
   "cell_type": "code",
   "execution_count": null,
   "metadata": {},
   "outputs": [],
   "source": [
    "#Should return true\n",
    "print(genre_titles(df,\"Non-Fiction\",'of')=={'Non-Fiction': ['Brief History of Time', 'The Diary of Anne Frank', 'Mysteries of the Cosmos', 'The Art of the Code']})"
   ]
  },
  {
   "cell_type": "code",
   "execution_count": null,
   "metadata": {},
   "outputs": [],
   "source": [
    "# save your function output "
   ]
  }
 ],
 "metadata": {
  "kernelspec": {
   "display_name": "base",
   "language": "python",
   "name": "python3"
  },
  "language_info": {
   "codemirror_mode": {
    "name": "ipython",
    "version": 3
   },
   "file_extension": ".py",
   "mimetype": "text/x-python",
   "name": "python",
   "nbconvert_exporter": "python",
   "pygments_lexer": "ipython3",
   "version": "3.8.5"
  }
 },
 "nbformat": 4,
 "nbformat_minor": 2
}
