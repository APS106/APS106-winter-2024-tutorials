{
 "cells": [
  {
   "cell_type": "markdown",
   "id": "f53b8869",
   "metadata": {},
   "source": [
    "# Coding Question 1\n",
    "Problem statement\n",
    "Complete the body of the function  according to its docstring\n",
    "\n",
    "\n",
    "\n"
   ]
  },
  {
   "cell_type": "code",
   "execution_count": 7,
   "id": "9e1709f6",
   "metadata": {},
   "outputs": [],
   "source": [
    "def alternate_letters(s1, s2):\n",
    "    \n",
    "    \"\"\" (str, str) --> str\n",
    "    Return a string made up of alternating letters from s1 and \n",
    "    s2. Start with s1[0], then s2[1], s1[2], and so on. \n",
    "      Assume len(s1) == len(s2).\n",
    "\n",
    "    >>> alternate_letters ('abc', '123')\n",
    "    'a2c'\n",
    "\n",
    "    >>> alternate_letters ('abcd', ‘1234')\n",
    "    'a2c4'\n",
    "\n",
    "    \"\"\"\n",
    "    \n"
   ]
  },
  {
   "cell_type": "code",
   "execution_count": null,
   "id": "3df7a8bf",
   "metadata": {},
   "outputs": [],
   "source": [
    "print(alternate_letters ('abcd', '1234') == 'a2c4')\n",
    "#should display True"
   ]
  }
 ],
 "metadata": {
  "kernelspec": {
   "display_name": "Python 3 (ipykernel)",
   "language": "python",
   "name": "python3"
  },
  "language_info": {
   "codemirror_mode": {
    "name": "ipython",
    "version": 3
   },
   "file_extension": ".py",
   "mimetype": "text/x-python",
   "name": "python",
   "nbconvert_exporter": "python",
   "pygments_lexer": "ipython3",
   "version": "3.10.8"
  }
 },
 "nbformat": 4,
 "nbformat_minor": 5
}
