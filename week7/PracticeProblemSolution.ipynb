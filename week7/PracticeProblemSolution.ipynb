{
 "cells": [
  {
   "cell_type": "markdown",
   "id": "f53b8869",
   "metadata": {},
   "source": [
    "# Coding Question 1\n",
    "Problem statement\n",
    "Complete the body of the function  according to its docstring\n",
    "\n",
    "\n",
    "\n"
   ]
  },
  {
   "cell_type": "code",
   "execution_count": 7,
   "id": "9e1709f6",
   "metadata": {},
   "outputs": [],
   "source": [
    "def alternate_letters(s1, s2):\n",
    "    \n",
    "    \"\"\" (str, str) --> str\n",
    "    Return a string made up of alternating letters from s1 and \n",
    "    s2. Start with s1[0], then s2[1], s1[2], and so on. \n",
    "      Assume len(s1) == len(s2).\n",
    "\n",
    "    >>> alternate_letters ('abc', '123')\n",
    "    'a2c'\n",
    "\n",
    "    >>> alternate_letters ('abcd', ‘1234')\n",
    "    'a2c4'\n",
    "\n",
    "    \"\"\"\n",
    "    #THERE ARE MANY WAYS TO DO THIS QUESTION, THIS IS ONE EXAMPLE \n",
    "    new_s = '' # this is the variable we will use for making the new string\n",
    "    for i in range(len(s1)): #loop through the length of any of the strings since theyre the same\n",
    "        #we alternate which letter to take from, therefore we could change booleans or just keep track of when it is odd or even\n",
    "        if i % 2 == 0:\n",
    "            new_s += s1[i]\n",
    "        else:\n",
    "            new_s += s2[i]\n",
    "    #once the loop is done we return the new string\n",
    "    return new_s\n",
    "    \n"
   ]
  },
  {
   "cell_type": "code",
   "execution_count": 8,
   "id": "3df7a8bf",
   "metadata": {},
   "outputs": [
    {
     "name": "stdout",
     "output_type": "stream",
     "text": [
      "True\n"
     ]
    }
   ],
   "source": [
    "print(alternate_letters ('abcd', '1234') == 'a2c4')\n",
    "#should display True"
   ]
  }
 ],
 "metadata": {
  "kernelspec": {
   "display_name": "Python 3 (ipykernel)",
   "language": "python",
   "name": "python3"
  },
  "language_info": {
   "codemirror_mode": {
    "name": "ipython",
    "version": 3
   },
   "file_extension": ".py",
   "mimetype": "text/x-python",
   "name": "python",
   "nbconvert_exporter": "python",
   "pygments_lexer": "ipython3",
   "version": "3.10.8"
  }
 },
 "nbformat": 4,
 "nbformat_minor": 5
}
