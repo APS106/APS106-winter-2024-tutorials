{
 "cells": [
  {
   "cell_type": "markdown",
   "id": "8e0d7384",
   "metadata": {},
   "source": [
    "# Coding Question 1\n",
    "\n",
    "You are tasked with designing a simple `Fridge` class to help manage the inventory of food items for a household kitchen. The class should keep track of food `items` and their `quantities`. It should also have a method `use_item` to update the inventory when food items are used for cooking. Individual items and their quantities in the Fridge should be returned as a dictionary (keys = items, quantity = value).\n",
    "\n",
    "Example use:\n",
    "```\n",
    "my_fridge = Fridge()\n",
    "my_fridge.add_item(\"Apples\", 10)\n",
    "my_fridge.add_item(\"Milk\", 10)\n",
    "my_fridge.use_item(\"Apples\", 4)\n",
    "my_fridge.use_item(\"Milk\", 1)\n",
    "print(my_fridge.inventory)  # {'Apples': 6, 'Milk': 9}\n",
    "```"
   ]
  },
  {
   "cell_type": "code",
   "execution_count": 1,
   "id": "957c5420",
   "metadata": {},
   "outputs": [],
   "source": [
    "# your code here"
   ]
  },
  {
   "cell_type": "code",
   "execution_count": 2,
   "id": "020c256b",
   "metadata": {},
   "outputs": [
    {
     "name": "stdout",
     "output_type": "stream",
     "text": [
      "{'Apples': 6, 'Milk': 9}\n"
     ]
    }
   ],
   "source": [
    "# example use, should work after you define your class\n",
    "my_fridge = Fridge()\n",
    "my_fridge.add_item(\"Apples\", 10)\n",
    "my_fridge.add_item(\"Milk\", 10)\n",
    "my_fridge.use_item(\"Apples\", 4)\n",
    "my_fridge.use_item(\"Milk\", 1)\n",
    "print(my_fridge.inventory)  # {'Apples': 6, 'Milk': 9}"
   ]
  },
  {
   "cell_type": "markdown",
   "id": "406147fb",
   "metadata": {},
   "source": [
    "# Coding Question 2\n",
    "\n",
    "Define a class called `Book` and store its `title`, `author`, `genre`, `isbn`. \n",
    "Create a related class `Library` and create methods to:\n",
    "- Add a new book\n",
    "- Remove a book by isbn\n",
    "- Find all books by a specific author\n",
    "- Find all books of a specific genre"
   ]
  },
  {
   "cell_type": "code",
   "execution_count": null,
   "id": "49a54935",
   "metadata": {},
   "outputs": [],
   "source": [
    "class Book:\n",
    "    ...\n",
    "    \n",
    "    \n",
    "class Library:\n",
    "    ..."
   ]
  },
  {
   "cell_type": "code",
   "execution_count": null,
   "id": "e2bd931f",
   "metadata": {},
   "outputs": [],
   "source": [
    "# Example usage\n",
    "my_library = Library()\n",
    "my_library.add_book(Book(\"Book Title 1\", \"Author A\", \"Fiction\", \"ISBN123456\"))\n",
    "my_library.add_book(Book(\"Book Title 2\", \"Author B\", \"Non-Fiction\", \"ISBN234567\"))\n",
    "my_library.add_book(Book(\"Book Title 3\", \"Author A\", \"Fiction\", \"ISBN345678\"))\n",
    "\n",
    "# Find books by Author A\n",
    "books_by_author_a = my_library.find_books_by_author(\"Author A\")\n",
    "for book in books_by_author_a:\n",
    "    print(book.title, book.author)\n",
    "\n",
    "# Remove a book by ISBN\n",
    "my_library.remove_book_by_isbn(\"ISBN234567\")\n",
    "\n",
    "# Find books in the Fiction genre\n",
    "fiction_books = my_library.find_books_by_genre(\"Fiction\")\n",
    "for book in fiction_books:\n",
    "    print(book.title, book.genre)"
   ]
  },
  {
   "cell_type": "markdown",
   "id": "6066360e",
   "metadata": {},
   "source": [
    "# Coding Question 3\n",
    "\n",
    "#### Define a class called Circle and store its center and radius. Create methods for circle that:\n",
    "<ul>\n",
    "<li>compute its area</li>\n",
    "<li>compute its circumference</li>\n",
    "<li>can pass in a Point object, and tells you if it is inside the circle or not </li>\n",
    "<li>determines how much larger one circle object is than another circle object</li>\n",
    "</ul>\n",
    "\n",
    "#### Requirements: \n",
    "<ol>\n",
    "<li>Use the starter code below. </li>\n",
    "<li>Use the Point class to solve this problem.</li>\n",
    "<li>Hint: What are some logical attributes for a rectangle? What attributes would be useful within the methods that we’re going to write?</li>\n",
    "</ol>\n",
    "\n"
   ]
  },
  {
   "cell_type": "code",
   "execution_count": null,
   "id": "9d5fc219",
   "metadata": {},
   "outputs": [],
   "source": [
    "class Point:\n",
    "    \"\"\" Create a new Point, at coordinate x, y\"\"\"\n",
    "    \n",
    "    def __init__(self, x=0, y=0):\n",
    "        self.x = x\n",
    "        self.y = y\n",
    "\n",
    "## TODO: create a circle object!"
   ]
  },
  {
   "cell_type": "code",
   "execution_count": null,
   "id": "6eec1af9",
   "metadata": {},
   "outputs": [],
   "source": [
    "# Example usage\n",
    "center_point = Point(0, 0)\n",
    "circle1 = Circle(center_point, 5)\n",
    "circle2 = Circle(Point(5, 5), 3)\n",
    "\n",
    "# Test out some methods here"
   ]
  }
 ],
 "metadata": {
  "kernelspec": {
   "display_name": "Python 3",
   "language": "python",
   "name": "python3"
  },
  "language_info": {
   "codemirror_mode": {
    "name": "ipython",
    "version": 3
   },
   "file_extension": ".py",
   "mimetype": "text/x-python",
   "name": "python",
   "nbconvert_exporter": "python",
   "pygments_lexer": "ipython3",
   "version": "3.8.5"
  }
 },
 "nbformat": 4,
 "nbformat_minor": 5
}
