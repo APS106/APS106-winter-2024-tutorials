{
 "cells": [
  {
   "cell_type": "markdown",
   "id": "06bbbe76",
   "metadata": {},
   "source": [
    "# Coding Question 1# Coding Question 1\n",
    "\n",
    "You are tasked with designing a simple `Fridge` class to help manage the inventory of food items for a household kitchen. The class should keep track of food `items` and their `quantities`. It should also have a method `use_item` to update the inventory when food items are used for cooking. Individual items and their quantities in the Fridge should be returned as a dictionary (keys = items, quantity = value).\n",
    "\n",
    "Example use:\n",
    "```\n",
    "my_fridge = Fridge()\n",
    "my_fridge.add_item(\"Apples\", 10)\n",
    "my_fridge.add_item(\"Milk\", 10)\n",
    "my_fridge.use_item(\"Apples\", 4)\n",
    "my_fridge.use_item(\"Milk\", 1)\n",
    "print(my_fridge.inventory)  # {'Apples': 6, 'Milk': 9}\n",
    "```"
   ]
  },
  {
   "cell_type": "code",
   "execution_count": null,
   "id": "0ce22b62",
   "metadata": {},
   "outputs": [],
   "source": [
    "class Fridge:\n",
    "    def __init__(self):\n",
    "        # Initialize the inventory as an empty dictionary\n",
    "        self.inventory = {}\n",
    "\n",
    "    def add_item(self, item_name, quantity):\n",
    "        # Add the item with the specified quantity. If the item already exists, update the quantity.\n",
    "        if item_name in self.inventory:\n",
    "            self.inventory[item_name] += quantity\n",
    "        else:\n",
    "            self.inventory[item_name] = quantity\n",
    "\n",
    "    def use_item(self, item_name, quantity_used):\n",
    "        # Check if the item exists in the inventory\n",
    "        if item_name in self.inventory:\n",
    "            if self.inventory[item_name] >= quantity_used:\n",
    "                # Subtract the used quantity from the inventory\n",
    "                self.inventory[item_name] -= quantity_used\n",
    "                \n",
    "                # If the item is used up, remove it from the inventory\n",
    "                if self.inventory[item_name] <= 0:\n",
    "                    del self.inventory[item_name]\n",
    "            else:\n",
    "                print(\"Not enough\", item_name, \" in the fridge to use.\")\n",
    "        else:\n",
    "            print(item_name, \"not found in the fridge.\")"
   ]
  },
  {
   "cell_type": "code",
   "execution_count": null,
   "id": "b8aa442d",
   "metadata": {},
   "outputs": [],
   "source": [
    "# example use, should work after you define your class\n",
    "my_fridge = Fridge()\n",
    "my_fridge.add_item(\"Apples\", 10)\n",
    "my_fridge.add_item(\"Milk\", 10)\n",
    "my_fridge.use_item(\"Apples\", 4)\n",
    "my_fridge.use_item(\"Milk\", 1)\n",
    "print(my_fridge.inventory)  # {'Apples': 6, 'Milk': 9}"
   ]
  },
  {
   "cell_type": "markdown",
   "id": "7b90c643",
   "metadata": {},
   "source": [
    "# Coding Question 2# Coding Question 2\n",
    "\n",
    "Define a class called `Book` and store its `title`, `author`, `genre`, `isbn`. \n",
    "Create a related class `Library` and create methods to:\n",
    "- Add a new book\n",
    "- Remove a book by isbn\n",
    "- Find all books by a specific author\n",
    "- Find all books of a specific genre"
   ]
  },
  {
   "cell_type": "code",
   "execution_count": 1,
   "id": "80fdd2ae",
   "metadata": {},
   "outputs": [],
   "source": [
    "class Book:\n",
    "    def __init__(self, title, author, genre, isbn):\n",
    "        self.title = title\n",
    "        self.author = author\n",
    "        self.genre = genre\n",
    "        self.isbn = isbn\n",
    "\n",
    "class Library:\n",
    "    def __init__(self):\n",
    "        self.collection = []\n",
    "\n",
    "    def add_book(self, book):\n",
    "        self.collection.append(book)\n",
    "\n",
    "    def remove_book_by_isbn(self, isbn):\n",
    "        new_collection = []\n",
    "        for book in self.collection:\n",
    "            if book.isbn != isbn:\n",
    "                new_collection.append(book)\n",
    "        self.collection = new_collection\n",
    "\n",
    "    def find_books_by_author(self, author):\n",
    "        found_books = []\n",
    "        for book in self.collection:\n",
    "            if book.author == author:\n",
    "                found_books.append(book)\n",
    "        return found_books\n",
    "\n",
    "    def find_books_by_genre(self, genre):\n",
    "        found_books = []\n",
    "        for book in self.collection:\n",
    "            if book.genre == genre:\n",
    "                found_books.append(book)\n",
    "        return found_books"
   ]
  },
  {
   "cell_type": "code",
   "execution_count": 2,
   "id": "82b75455",
   "metadata": {},
   "outputs": [
    {
     "name": "stdout",
     "output_type": "stream",
     "text": [
      "Book Title 1 Author A\n",
      "Book Title 3 Author A\n",
      "Book Title 1 Fiction\n",
      "Book Title 3 Fiction\n"
     ]
    }
   ],
   "source": [
    "# Example usage\n",
    "my_library = Library()\n",
    "my_library.add_book(Book(\"Book Title 1\", \"Author A\", \"Fiction\", \"ISBN123456\"))\n",
    "my_library.add_book(Book(\"Book Title 2\", \"Author B\", \"Non-Fiction\", \"ISBN234567\"))\n",
    "my_library.add_book(Book(\"Book Title 3\", \"Author A\", \"Fiction\", \"ISBN345678\"))\n",
    "\n",
    "# Find books by Author A\n",
    "books_by_author_a = my_library.find_books_by_author(\"Author A\")\n",
    "for book in books_by_author_a:\n",
    "    print(book.title, book.author)\n",
    "\n",
    "# Remove a book by ISBN\n",
    "my_library.remove_book_by_isbn(\"ISBN234567\")\n",
    "\n",
    "# Find books in the Fiction genre\n",
    "fiction_books = my_library.find_books_by_genre(\"Fiction\")\n",
    "for book in fiction_books:\n",
    "    print(book.title, book.genre)"
   ]
  },
  {
   "cell_type": "markdown",
   "id": "d6923734",
   "metadata": {},
   "source": [
    "# Coding Question 3\n",
    "\n",
    "#### Define a class called Circle and store its center and radius. Create methods for circle that:\n",
    "<ul>\n",
    "<li>compute its area</li>\n",
    "<li>compute its circumference</li>\n",
    "<li>can pass in a Point object, and tells you if it is inside the circle or not </li>\n",
    "<li>determines how much larger one circle object is than another circle object</li>\n",
    "</ul>\n",
    "\n",
    "#### Requirements: \n",
    "<ol>\n",
    "<li>Use the starter code below. </li>\n",
    "<li>Use the Point class to solve this problem.</li>\n",
    "<li>Hint: What are some logical attributes for a rectangle? What attributes would be useful within the methods that we’re going to write?</li>\n",
    "</ol>"
   ]
  },
  {
   "cell_type": "code",
   "execution_count": 3,
   "id": "b61d5ad8",
   "metadata": {},
   "outputs": [
    {
     "name": "stdout",
     "output_type": "stream",
     "text": [
      "Circle1 Area: 78.53981633974483\n",
      "Circle2 Area: 28.274333882308138\n",
      "Larger Circle Area: 78.53981633974483\n"
     ]
    }
   ],
   "source": [
    "import math\n",
    "\n",
    "class Point:\n",
    "    def __init__(self, x, y):\n",
    "        self.x = x\n",
    "        self.y = y\n",
    "\n",
    "class Circle:\n",
    "    def __init__(self, center, radius):\n",
    "        self.center = center\n",
    "        self.radius = radius\n",
    "\n",
    "    def area(self):\n",
    "        return math.pi * self.radius ** 2\n",
    "\n",
    "    def circumference(self):\n",
    "        return 2 * math.pi * self.radius\n",
    "\n",
    "    def is_point_inside(self, point):\n",
    "        distance = math.sqrt((self.center.x - point.x) ** 2 + (self.center.y - point.y) ** 2)\n",
    "        return distance <= self.radius\n",
    "\n",
    "    def larger_circle(self, circle2):\n",
    "        if self.area() >= circle2.area():\n",
    "            return self\n",
    "        else:\n",
    "            return circle2\n",
    "\n",
    "# Example usage\n",
    "center_point = Point(0, 0)\n",
    "circle1 = Circle(center_point, 5)\n",
    "circle2 = Circle(Point(5, 5), 3)\n",
    "\n",
    "print(f\"Circle1 Area: {circle1.area()}\")\n",
    "print(f\"Circle2 Area: {circle2.area()}\")\n",
    "print(f\"Larger Circle Area: {circle1.larger_circle(circle2).area()}\")"
   ]
  },
  {
   "cell_type": "code",
   "execution_count": null,
   "id": "aebea9b5",
   "metadata": {},
   "outputs": [],
   "source": []
  }
 ],
 "metadata": {
  "kernelspec": {
   "display_name": "Python 3",
   "language": "python",
   "name": "python3"
  },
  "language_info": {
   "codemirror_mode": {
    "name": "ipython",
    "version": 3
   },
   "file_extension": ".py",
   "mimetype": "text/x-python",
   "name": "python",
   "nbconvert_exporter": "python",
   "pygments_lexer": "ipython3",
   "version": "3.8.5"
  }
 },
 "nbformat": 4,
 "nbformat_minor": 5
}
