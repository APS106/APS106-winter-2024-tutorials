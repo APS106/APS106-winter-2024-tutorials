{
 "cells": [
  {
   "cell_type": "markdown",
   "id": "f53b8869",
   "metadata": {},
   "source": [
    "# Coding Question 1\n",
    "Problem statement\n",
    "write a function string_sum() that takes in a string and returns the sum of the digits that appear in the input string. Characters other than digits are ignored.\n",
    "\n",
    "\t>>> string_sum(\"PYnative29@#8496\") \n",
    "         38\n",
    "\n",
    "Additional requirement: \n",
    " use a while loop to solve this question.\n",
    "\n",
    "\n"
   ]
  },
  {
   "cell_type": "code",
   "execution_count": 14,
   "id": "9e1709f6",
   "metadata": {},
   "outputs": [],
   "source": [
    "def string_sum(given_string):\n",
    "    i = #counter for index in the string\n",
    "    total = #summing variable\n",
    "    while i < #what is the upper limit here? \n",
    "    \n",
    "        if #there should be a function that checks if a string is a number\n",
    "            #add that number\n",
    "\n",
    "        #Never forget to increment the counter affecting the while loop's conditional!!\n",
    "        \n",
    "    return total"
   ]
  },
  {
   "cell_type": "code",
   "execution_count": null,
   "id": "3df7a8bf",
   "metadata": {},
   "outputs": [],
   "source": [
    "print(string_sum(\"PYnative29@#8496\") == 38)\n",
    "#should display True"
   ]
  },
  {
   "cell_type": "markdown",
   "id": "7f609040",
   "metadata": {},
   "source": [
    "# Coding Question 2\n",
    "Problem statement\n",
    "write a function string_avg() that takes in a string and returns the average of the digits that appear in the input string, rounded to 2 decimals. Characters other than digits are ignored.\n",
    "\n",
    "\t>>> string_avg(\"PYnative29@#8496\") \n",
    "        \t6.33\n",
    "\n",
    "Additional requirement: \n",
    " use a while loop to solve this question.\n",
    "\n"
   ]
  },
  {
   "cell_type": "code",
   "execution_count": 22,
   "id": "3ab88ccf",
   "metadata": {},
   "outputs": [],
   "source": [
    "\n",
    "def string_avg(given_string)\n",
    "    #should be relatively straightforward after solving question 1!\n",
    "    # only difference is that we need to keep track of the number of \"letters\" that are numbers\n",
    "    i = #counter for index in the string\n",
    "    total = #summing variable\n",
    "    num_numeric =  #counter to keep track of number of characters that we are adding to sum\n",
    "    \n",
    "    #what goes here?\n",
    "    \n",
    "    \n",
    "    \n",
    "    return (total/num_numeric) #this is NOT the final return, remember we need to round it, there is a function for that"
   ]
  },
  {
   "cell_type": "code",
   "execution_count": null,
   "id": "4fa9a63c",
   "metadata": {},
   "outputs": [],
   "source": [
    "print(string_avg(\"PYnative29@#8496\") == 6.33)\n",
    "#should display True"
   ]
  }
 ],
 "metadata": {
  "kernelspec": {
   "display_name": "Python 3 (ipykernel)",
   "language": "python",
   "name": "python3"
  },
  "language_info": {
   "codemirror_mode": {
    "name": "ipython",
    "version": 3
   },
   "file_extension": ".py",
   "mimetype": "text/x-python",
   "name": "python",
   "nbconvert_exporter": "python",
   "pygments_lexer": "ipython3",
   "version": "3.10.8"
  }
 },
 "nbformat": 4,
 "nbformat_minor": 5
}
