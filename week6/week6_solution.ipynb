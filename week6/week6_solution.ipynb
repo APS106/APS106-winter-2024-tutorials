{
 "cells": [
  {
   "cell_type": "markdown",
   "id": "9f351f14",
   "metadata": {},
   "source": [
    "# Coding Question 1\n",
    "Problem statement\n",
    "write a function string_sum() that takes in a string and returns the sum of the digits that appear in the input string. Characters other than digits are ignored.\n",
    "\n",
    "\t>>> string_sum(\"PYnative29@#8496\") \n",
    "         38\n",
    "\n",
    "Additional requirement: \n",
    " use a while loop to solve this question.\n",
    "\n",
    "\n"
   ]
  },
  {
   "cell_type": "code",
   "execution_count": 26,
   "id": "017fa709",
   "metadata": {},
   "outputs": [],
   "source": [
    "def string_sum(given_string):\n",
    "    i = 0 #counter for index in the string\n",
    "    total = 0 #summing variable\n",
    "    while i < len(given_string): #what is the upper limit here? \n",
    "        curr_char = given_string[i]\n",
    "        if curr_char.isnumeric():#there should be a function that checks if a string is a number\n",
    "            total += int(curr_char) #add that number\n",
    "        \n",
    "        i+=1 #Never forget to increment the counter affecting the while loop's conditional!!\n",
    "        \n",
    "    return total"
   ]
  },
  {
   "cell_type": "code",
   "execution_count": 27,
   "id": "0cda3431",
   "metadata": {},
   "outputs": [
    {
     "name": "stdout",
     "output_type": "stream",
     "text": [
      "True\n"
     ]
    }
   ],
   "source": [
    "print(string_sum(\"PYnative29@#8496\") == 38)\n",
    "#should display True"
   ]
  },
  {
   "cell_type": "markdown",
   "id": "8892475c",
   "metadata": {},
   "source": [
    "# Coding Question 2\n",
    "Problem statement\n",
    "write a function string_avg() that takes in a string and returns the average of the digits that appear in the input string, rounded to 2 decimals. Characters other than digits are ignored.\n",
    "\n",
    "\t>>> string_avg(\"PYnative29@#8496\") \n",
    "        \t6.33\n",
    "\n",
    "Additional requirement: \n",
    " use a while loop to solve this question.\n",
    "\n"
   ]
  },
  {
   "cell_type": "code",
   "execution_count": 24,
   "id": "4d3aaac7",
   "metadata": {},
   "outputs": [],
   "source": [
    "\n",
    "def string_avg(given_string):\n",
    "    #should be relatively straightforward after solving question 1!\n",
    "    # only difference is that we need to keep track of the number of \"letters\" that are numbers\n",
    "    i = 0 #counter for index in the string\n",
    "    total = 0 #summing variable\n",
    "    num_numeric =  0 #counter to keep track of number of characters that we are adding to sum\n",
    "    \n",
    "    #what goes here?\n",
    "    while i < len(given_string): #what is the upper limit here? \n",
    "        curr_char = given_string[i]\n",
    "        if curr_char.isnumeric():#there should be a function that checks if a string is a number\n",
    "            total += int(curr_char) #add that number\n",
    "            num_numeric += 1 #new thing to keep track of\n",
    "            \n",
    "        i+=1 #Never forget to increment the counter affecting the while loop's conditional!!\n",
    "\n",
    "    return round(total/num_numeric, 2) #this is NOT the final return, remember we need to round it, there is a function for that"
   ]
  },
  {
   "cell_type": "code",
   "execution_count": 25,
   "id": "a094612d",
   "metadata": {},
   "outputs": [
    {
     "name": "stdout",
     "output_type": "stream",
     "text": [
      "True\n"
     ]
    }
   ],
   "source": [
    "print(string_avg(\"PYnative29@#8496\") == 6.33)\n",
    "#should display True"
   ]
  }
 ],
 "metadata": {
  "kernelspec": {
   "display_name": "Python 3 (ipykernel)",
   "language": "python",
   "name": "python3"
  },
  "language_info": {
   "codemirror_mode": {
    "name": "ipython",
    "version": 3
   },
   "file_extension": ".py",
   "mimetype": "text/x-python",
   "name": "python",
   "nbconvert_exporter": "python",
   "pygments_lexer": "ipython3",
   "version": "3.10.8"
  }
 },
 "nbformat": 4,
 "nbformat_minor": 5
}
