{
 "cells": [
  {
   "cell_type": "markdown",
   "metadata": {
    "collapsed": false
   },
   "source": [
    "# APS106 - Fundamentals of Computer Programming\n",
    "## Week 3 | Tutorial - Topics covered e.g. Functions, return, docstrings, etc.\n",
    "\n",
    "### Notebook Structure\n",
    "1. [Coding Problem 1](#section1)\n",
    "2. [Coding Problem 2](#section2)"
   ]
  },
  {
   "cell_type": "markdown",
   "metadata": {
    "collapsed": false
   },
   "source": [
    "<a id='section1'></a>\n",
    "## Coding Problem #1\n",
    "\n",
    "Write a function to convert an angle expressed in degrees to radians. \n",
    "\n",
    "HINT: You can import modules. Are there any built-in functions from the `math` module that can help ?\n",
    "\n",
    "Things to consider before you start writing your code:\n",
    "What would be the parameters of your function?\n",
    "What should the function output?"
   ]
  },
  {
   "cell_type": "code",
   "execution_count": 7,
   "metadata": {
    "collapsed": false
   },
   "outputs": [],
   "source": [
    "# Write your code here\n",
    "\n",
    "def angle_conversion(angle):\n",
    "    \"\"\"\n",
    "    inputs:\n",
    "    angle -> float\n",
    "    return:\n",
    "    radians -> float \n",
    "    \"\"\""
   ]
  },
  {
   "cell_type": "markdown",
   "metadata": {
    "collapsed": false
   },
   "source": [
    "<a id='section2'></a>\n",
    "## Coding Problem #2\n",
    "\n",
    "Write a function with 3 inputs: the **minimum** speed limit and **maximum** speed limit of that street, as well as your **current** speed\n",
    "\n",
    "**Return** a statement to the user telling them whether they are obeying speed limit rules, and if not, which speed limit they are breaking\n",
    "\n",
    "Hint:\n",
    "There are functions that take in values and return their minimum and maximum"
   ]
  },
  {
   "cell_type": "code",
   "execution_count": 6,
   "metadata": {
    "collapsed": false
   },
   "outputs": [],
   "source": [
    "def speeding(minSpeed, maxSpeed, currSpeed):\n",
    "    \"\"\"\n",
    "    inputs:\n",
    "    minSpeed -> float\n",
    "    maxSpeed -> float\n",
    "    currSpeed -> float\n",
    "\n",
    "    return\n",
    "    float\n",
    "    \"\"\"\n",
    "\n",
    "    # Write your code here"
   ]
  },
  {
   "cell_type": "code",
   "execution_count": null,
   "metadata": {},
   "outputs": [],
   "source": []
  }
 ],
 "metadata": {
  "kernelspec": {
   "display_name": "Python 3 (ipykernel)",
   "language": "python",
   "name": "python3"
  },
  "language_info": {
   "codemirror_mode": {
    "name": "ipython",
    "version": 3
   },
   "file_extension": ".py",
   "mimetype": "text/x-python",
   "name": "python",
   "nbconvert_exporter": "python",
   "pygments_lexer": "ipython3",
   "version": "3.7.11"
  }
 },
 "nbformat": 4,
 "nbformat_minor": 1
}
