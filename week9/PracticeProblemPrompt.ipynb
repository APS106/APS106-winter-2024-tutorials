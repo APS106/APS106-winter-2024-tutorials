{
 "cells": [
  {
   "attachments": {},
   "cell_type": "markdown",
   "id": "cd0bab78",
   "metadata": {},
   "source": [
    "# Coding Questions Q1\n",
    "\n",
    "Write a function combine()that combines values from a list of dictionaries of the type {'item': i1, 'amount': a1 }. combine()should return a dictionary whose keys are the values associated with the keys item in the input dictionaries. The value associated with each key is the sum of the amounts corresponding to that key in the  input dictionaries. \n",
    "\n",
    "Usage example:\n",
    ">result = combine( [{'item': 'i1', 'amount': 400}, {   \n",
    "   {'item': 'i2', 'amount': 300}, {'item': 'i1', 'amount': 750}])\n",
    "\n",
    ">result\n",
    "   {'i1': 1150, 'i2': 300}\n"
   ]
  },
  {
   "cell_type": "code",
   "execution_count": 9,
   "id": "38380fc5",
   "metadata": {},
   "outputs": [],
   "source": [
    "def combine(dictionaries):\n",
    "    #this is the dictionary we will be returning, initially empty\n",
    "    summing_dictionary = {}\n",
    "    for dictionary in dictionaries: #we loop through every dictionary in the list\n",
    "        #if we have never encountered this item we insert it into our dictionary and place the value\n",
    "        \n",
    "        #CODE HERE\n",
    "        \n",
    "        else: #if we have already encountered this item, we just add it to the pre-existing value\n",
    "        \n",
    "        #CODE HERE\n",
    "        \n",
    "    #after looping through all the dictionaries we return our resulting dictionary\n",
    "    return summing_dictionary "
   ]
  },
  {
   "cell_type": "code",
   "execution_count": 10,
   "id": "7c7ef0a7",
   "metadata": {},
   "outputs": [
    {
     "name": "stdout",
     "output_type": "stream",
     "text": [
      "True\n"
     ]
    }
   ],
   "source": [
    "#SHOULD DISPLAY TRUE\n",
    "print (combine( [{'item': 'i1', 'amount': 400}, {'item': 'i2', 'amount': 300}, {'item': 'i1', 'amount': 750}]) == {'i1': 1150, 'i2': 300})"
   ]
  },
  {
   "attachments": {},
   "cell_type": "markdown",
   "id": "438a54f3",
   "metadata": {},
   "source": [
    "# Coding Question Q2\n",
    "Complete the function body below according to its docstring description.\n",
    "\n"
   ]
  },
  {
   "cell_type": "code",
   "execution_count": 11,
   "id": "7800d78c",
   "metadata": {},
   "outputs": [],
   "source": [
    "def get_student_class(student_to_class, myclass): \n",
    "    \"\"\" \n",
    "    (Dict[str, List[str]], List[str]) -> List[str] \n",
    "    Return a list of students from student_to_class who are in myclass. In student_to_class each key is a student and each value is the lists of classes each student is enrolled in. \n",
    "    >>> D = {‘Ana’: [‘csc108’, ‘aps106’, ‘mat188’],‘Frank’: [‘aps106’, ‘mat182’], ‘Rachel’: [‘mat188’]}\n",
    "    >>> get_student_class(D, ‘aps106’)\n",
    "    [‘Ana’, ‘Frank’] \n",
    "    \"\"\" \n",
    "    \n",
    "    #this is the list of students names we will be returning, initially empty\n",
    "\n",
    "    students_in_myclass = []\n",
    "\n",
    "    #CODE HERE\n",
    "    \n",
    "    #once done with all students, we return our list\n",
    "    return students_in_myclass\n",
    "\n",
    "\n"
   ]
  },
  {
   "cell_type": "code",
   "execution_count": 13,
   "id": "1538ac08",
   "metadata": {},
   "outputs": [
    {
     "name": "stdout",
     "output_type": "stream",
     "text": [
      "True\n"
     ]
    }
   ],
   "source": [
    "#SHOULD DISPLAY TRUE\n",
    "print(get_student_class({'Ana': ['csc108', 'aps106', 'mat188'],'Frank': ['aps106', 'mat182'], 'Rachel': ['mat188']}, 'aps106') == ['Ana', 'Frank']) "
   ]
  }
 ],
 "metadata": {
  "kernelspec": {
   "display_name": "Python 3 (ipykernel)",
   "language": "python",
   "name": "python3"
  },
  "language_info": {
   "codemirror_mode": {
    "name": "ipython",
    "version": 3
   },
   "file_extension": ".py",
   "mimetype": "text/x-python",
   "name": "python",
   "nbconvert_exporter": "python",
   "pygments_lexer": "ipython3",
   "version": "3.10.8"
  }
 },
 "nbformat": 4,
 "nbformat_minor": 5
}
