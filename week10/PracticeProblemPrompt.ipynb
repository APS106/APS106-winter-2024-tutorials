{
 "cells": [
  {
   "cell_type": "markdown",
   "id": "c283c8f7",
   "metadata": {},
   "source": [
    "# Coding Question 1\n",
    "#### Let’s make a simple class called Car. The attributes of the Car class are: \n",
    "<ul>\n",
    "<li>brand (stored as a string)</li>\n",
    "<li>model (stored as a string)</li>\n",
    "<li>top_speed (stored as a floating point number)</li>\n",
    "</ul>\n",
    "\n",
    "#### Requirements: \n",
    "1. Define a class Car. \n",
    "2. Create two Car objects, car1 and car2 \n",
    "3. Print out the attributes of each Car object.\n",
    "4. Create a method is_faster(self, other_car), which returns True if self is “faster” than the other_car and False if it is slower \n",
    "5. Print out whether  car1 is “faster” than car2\n",
    "\n",
    "\n"
   ]
  },
  {
   "cell_type": "code",
   "execution_count": null,
   "id": "09e8c27f",
   "metadata": {},
   "outputs": [],
   "source": []
  },
  {
   "cell_type": "code",
   "execution_count": null,
   "id": "a21520de",
   "metadata": {},
   "outputs": [],
   "source": [
    "#The goal of this code is to test your knowledge in both implementing and testing with user-defined Classes and methods\n",
    "# to check your code implementation please just look at the sample solution"
   ]
  },
  {
   "cell_type": "markdown",
   "id": "b27e0015",
   "metadata": {},
   "source": [
    "# Coding Question 2\n",
    "\n",
    "#### Define a class called Rectangle and create methods to:\n",
    "<ul>\n",
    "<li>compute its area</li>\n",
    "<li>compute its perimeter</li>\n",
    "<li>find its centre point</li>\n",
    "<li>compare two rectangles and return the rectangle with the largest area</li>\n",
    "</ul>\n",
    "\n",
    "#### Requirements: \n",
    "<ol>\n",
    "<li>Use the starter code below. </li>\n",
    "<li>Use the Point class to solve this problem.</li>\n",
    "<li>Hint: What are some logical attributes for a rectangle? What attributes would be useful within the methods that we’re going to write?</li>\n",
    "</ol>\n",
    "\n",
    "\n"
   ]
  },
  {
   "cell_type": "code",
   "execution_count": null,
   "id": "d9c7f5ca",
   "metadata": {},
   "outputs": [],
   "source": [
    "class Point:\n",
    "    \"\"\" Create a new Point, at coordinate x, y\"\"\"\n",
    "    \n",
    "    def __init__(self, x=0, y=0):\n",
    "        self.x = x\n",
    "        self.y = y\n",
    "        \n",
    "class Rectangle:\n",
    "    \n",
    "    def __init__ (self, x1=0, y1 =0, x2=0, y2=0):\n",
    "        # Initialize your Rectagle object\n",
    "        # what are some logical attributes to use?\n",
    "        # hint: use the Point classs\n",
    "\n",
    "    ##TODO: Write methods here\n",
    "    "
   ]
  },
  {
   "cell_type": "code",
   "execution_count": null,
   "id": "a21520de",
   "metadata": {},
   "outputs": [],
   "source": [
    "#The goal of this code is to test your knowledge in both implementing and testing with user-defined Classes and methods\n",
    "# to check your code implementation please just look at the sample solution"
   ]
  }
 ],
 "metadata": {
  "kernelspec": {
   "display_name": "Python 3 (ipykernel)",
   "language": "python",
   "name": "python3"
  },
  "language_info": {
   "codemirror_mode": {
    "name": "ipython",
    "version": 3
   },
   "file_extension": ".py",
   "mimetype": "text/x-python",
   "name": "python",
   "nbconvert_exporter": "python",
   "pygments_lexer": "ipython3",
   "version": "3.10.8"
  }
 },
 "nbformat": 4,
 "nbformat_minor": 5
}
