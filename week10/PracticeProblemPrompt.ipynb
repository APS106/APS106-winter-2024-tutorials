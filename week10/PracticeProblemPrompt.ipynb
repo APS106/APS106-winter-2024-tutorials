{
 "cells": [
  {
   "cell_type": "markdown",
   "id": "59555044",
   "metadata": {},
   "source": [
    "# Coding Question 1\n",
    "#### Let’s make a simple class called Car. The attributes of the Car class are: \n",
    "<ul>\n",
    "<li>brand (stored as a string)</li>\n",
    "<li>model (stored as a string)</li>\n",
    "<li>top_speed (stored as a floating point number)</li>\n",
    "</ul>\n",
    "\n",
    "#### Requirements: \n",
    "1. Define a class Car. \n",
    "2. Create two Car objects, car1 and car2 \n",
    "3. Print out the attributes of each Car object.\n",
    "4. Create a method is_faster(self, other_car), which returns True if self is “faster” than the other_car and False if it is slower \n",
    "5. Print out whether  car1 is “faster” than car2\n",
    "\n",
    "\n"
   ]
  },
  {
   "cell_type": "code",
   "execution_count": null,
   "id": "c66fb292",
   "metadata": {},
   "outputs": [],
   "source": [
    "class Car:\n",
    "    \"\"\"Represents a car with brand, model, and top speed attributes.\"\"\"\n",
    "    \n",
    "    def __init__(self, brand, model, top_speed):\n",
    "        \"\"\"(self, str, str, float) -> None\n",
    "        Args:\n",
    "        brand (str): The brand of the car.\n",
    "        model (str): The model of the car.\n",
    "        top_speed (float): The top speed of the car in kilometers per hour.\n",
    "        \"\"\"\n",
    "\n",
    "    def is_faster(self, other_car):\n",
    "        \"\"\"(self, Car object) -> bool\n",
    "        Compares the top speed of this car with another car object\n",
    "        to determine which is faster.\n",
    "        Return True if this car's top speed is greater than or equal to the other car's top speed, otherwise False.\n",
    "\n",
    "        Example use:\n",
    "        car1.is_faster(car2)\n",
    "        >> True\n",
    "        \n",
    "        \"\"\""
   ]
  },
  {
   "cell_type": "code",
   "execution_count": null,
   "id": "a3fcbf25",
   "metadata": {},
   "outputs": [],
   "source": [
    "#The goal of this code is to test your knowledge in both implementing and testing with user-defined Classes and methods\n",
    "# to check your code implementation please just look at the sample solution"
   ]
  },
  {
   "cell_type": "markdown",
   "id": "6ce2c01e",
   "metadata": {},
   "source": [
    "# Coding Question 2\n",
    "\n",
    "#### Define a class called Rectangle and create methods to:\n",
    "<ul>\n",
    "<li>compute its area</li>\n",
    "<li>compute its perimeter</li>\n",
    "<li>find its centre point</li>\n",
    "<li>compare two rectangles and return the rectangle with the largest area</li>\n",
    "</ul>\n",
    "\n",
    "#### Requirements: \n",
    "<ol>\n",
    "<li>Use the starter code below. </li>\n",
    "<li>Use the Point class to solve this problem.</li>\n",
    "<li>Hint: What are some logical attributes for a rectangle? What attributes would be useful within the methods that we’re going to write?</li>\n",
    "</ol>\n",
    "\n",
    "\n"
   ]
  },
  {
   "cell_type": "code",
   "execution_count": null,
   "id": "935ea463",
   "metadata": {},
   "outputs": [],
   "source": [
    "class Point:\n",
    "    \"\"\" Create a new Point, at coordinate x, y\"\"\"\n",
    "    \n",
    "    def __init__(self, x=0, y=0):\n",
    "        \"\"\"(self, float, float) -> None\n",
    "\n",
    "        Args:\n",
    "            x (float, optional): The x-coordinate of the point. Defaults to 0.\n",
    "            y (float, optional): The y-coordinate of the point. Defaults to 0.\n",
    "        \"\"\"\n",
    "        self.x = x\n",
    "        self.y = y\n",
    "        \n",
    "class Rectangle:\n",
    "    \"\"\"Represents a rectangle defined by the coordinates of its top left and bottom right corners.\"\"\"\n",
    "    \n",
    "    def __init__ (self, x1=0, y1 =0, x2=0, y2=0):\n",
    "                \"\"\"(self, float, float, float, float) -> None\n",
    "        Initializes a new instance of the Rectangle class with coordinates for the top left and bottom right corners.\n",
    "        \n",
    "        Args:\n",
    "            x1 (float, optional): The x-coordinate of the top left corner. Defaults to 0.\n",
    "            y1 (float, optional): The y-coordinate of the top left corner. Defaults to 0.\n",
    "            x2 (float, optional): The x-coordinate of the bottom right corner. Defaults to 0.\n",
    "            y2 (float, optional): The y-coordinate of the bottom right corner. Defaults to 0.\n",
    "\n",
    "        Created atrributes: \n",
    "            topLeft (Point): The top left corner of the rectangle.\n",
    "            bottomRight (Point): The bottom right corner of the rectangle.\n",
    "            length (float): The length of the rectangle (vertical dimension).\n",
    "            width (float): The width of the rectangle (horizontal dimension).\n",
    "        \"\"\"\n",
    "                \n",
    "        # Initialize your Rectangle object\n",
    "        # what are some logical attributes to use?\n",
    "        # hint: use the Point classs\n",
    "\n",
    "    ##TODO: Write methods here\n",
    "    "
   ]
  },
  {
   "cell_type": "code",
   "execution_count": null,
   "id": "aef42cf7",
   "metadata": {},
   "outputs": [],
   "source": [
    "#The goal of this code is to test your knowledge in both implementing and testing with user-defined Classes and methods\n",
    "# to check your code implementation please just look at the sample solution"
   ]
  }
 ],
 "metadata": {
  "kernelspec": {
   "display_name": "Python 3",
   "language": "python",
   "name": "python3"
  },
  "language_info": {
   "codemirror_mode": {
    "name": "ipython",
    "version": 3
   },
   "file_extension": ".py",
   "mimetype": "text/x-python",
   "name": "python",
   "nbconvert_exporter": "python",
   "pygments_lexer": "ipython3",
   "version": "3.8.5"
  }
 },
 "nbformat": 4,
 "nbformat_minor": 5
}
