{
 "cells": [
  {
   "cell_type": "markdown",
   "id": "af9f76c1",
   "metadata": {},
   "source": [
    "# Coding Question 1\n",
    "#### Let’s make a simple class called Car. The attributes of the Car class are: \n",
    "<ul>\n",
    "<li>brand (stored as a string)</li>\n",
    "<li>model (stored as a string)</li>\n",
    "<li>top_speed (stored as a floating point number)</li>\n",
    "</ul>\n",
    "\n",
    "#### Requirements: \n",
    "1. Define a class Car. \n",
    "2. Create two Car objects, car1 and car2 \n",
    "3. Print out the attributes of each Car object.\n",
    "4. Create a method is_faster(self, other_car), which returns True if self is “faster” than the other_car and False if it is slower \n",
    "5. Print out whether  car1 is “faster” than car2\n",
    "\n",
    "\n"
   ]
  },
  {
   "cell_type": "code",
   "execution_count": 2,
   "id": "965138ca",
   "metadata": {},
   "outputs": [
    {
     "name": "stdout",
     "output_type": "stream",
     "text": [
      "Car 1 is a Volkswagen Jetta with a top speed of 240.0\n",
      "Car 2 is a Toyota Corolla with a top speed of 220.0\n",
      "Car 1 is faster than Car 2\n"
     ]
    }
   ],
   "source": [
    "class Car:\n",
    "    \n",
    "    def __init__(self, brand, model, top_speed):\n",
    "        self.brand = brand\n",
    "        self.model = model\n",
    "        self.top_speed = top_speed\n",
    "        \n",
    "    def is_faster(self, other_car):\n",
    "        if self.top_speed >= other_car.top_speed:\n",
    "            return True\n",
    "        return False\n",
    "        \n",
    "car1 = Car('Volkswagen', 'Jetta', 240.0)\n",
    "car2 = Car('Toyota', 'Corolla', 220.0)\n",
    "\n",
    "print('Car 1 is a', car1.brand, car1.model, 'with a top speed of', car1.top_speed)\n",
    "print('Car 2 is a', car2.brand, car2.model, 'with a top speed of', car2.top_speed)\n",
    "\n",
    "if car1.is_faster(car2):\n",
    "    print('Car 1 is faster than Car 2')\n",
    "else:\n",
    "    print('Car 2 is faster than Car 1')\n"
   ]
  },
  {
   "cell_type": "code",
   "execution_count": null,
   "id": "fe9e1178",
   "metadata": {},
   "outputs": [],
   "source": [
    "#The goal of this code is to test your knowledge in both implementing and testing with user-defined Classes and methods\n",
    "# to check your code implementation please just look at the sample solution"
   ]
  },
  {
   "cell_type": "markdown",
   "id": "1be9933f",
   "metadata": {},
   "source": [
    "# Coding Question 2\n",
    "\n",
    "#### Define a class called Rectangle and create methods to:\n",
    "<ul>\n",
    "<li>compute its area</li>\n",
    "<li>compute its perimeter</li>\n",
    "<li>find its centre point</li>\n",
    "<li>compare two rectangles and return the rectangle with the largest area</li>\n",
    "</ul>\n",
    "\n",
    "#### Requirements: \n",
    "<ol>\n",
    "<li>Use the starter code below. </li>\n",
    "<li>Use the Point class to solve this problem.</li>\n",
    "<li>Hint: What are some logical attributes for a rectangle? What attributes would be useful within the methods that we’re going to write?</li>\n",
    "</ol>\n",
    "\n",
    "\n"
   ]
  },
  {
   "cell_type": "code",
   "execution_count": 3,
   "id": "6e38ceed",
   "metadata": {},
   "outputs": [],
   "source": [
    "class Point:\n",
    "    \"\"\" Create a new Point, at coordinate x, y\"\"\"\n",
    "    \n",
    "    def __init__(self, x=0, y=0):\n",
    "        self.x = x\n",
    "        self.y = y\n",
    "        \n",
    "class Rectangle:\n",
    "    \n",
    "    def __init__ (self, x1=0, y1 =0, x2=0, y2=0):\n",
    "        self.topLeft = Point(x1, y1)\n",
    "        self.bottomRight = Point(x2, y2)\n",
    "        #These are two logical attributes commonly used for rectangles that I chose to use\n",
    "        self.length = abs(y2-y1)\n",
    "        self.width = abs(x2-x1)\n",
    "\n",
    "    ##TODO: Write methods here\n",
    "    \n",
    "    def getArea():\n",
    "        return self.length * self.width\n",
    "    \n",
    "    def getPerimeter():\n",
    "        return (self.length*2) + (self.width*2)\n",
    "    \n",
    "    def getCentrePoint():\n",
    "        #use self attributes of this rectangle to return a new point with the mid coordinates\n",
    "        midx = self.bottomRight.x - self.topLeft.x\n",
    "        midy = self.topLeft.y - self.bottomRight.y\n",
    "        return Point(midx, midy)\n",
    "    \n",
    "    def compareRectangle(otherRectangle):\n",
    "        #check if this rectangle's area is greater than the other area\n",
    "        if self.getArea() >= otherRectangle.getArea():\n",
    "            return self\n",
    "        #if this rectangle's area is not greater, we return the other one\n",
    "        return otherRectangle\n",
    "    "
   ]
  },
  {
   "cell_type": "code",
   "execution_count": null,
   "id": "a21520de",
   "metadata": {},
   "outputs": [],
   "source": [
    "#The goal of this code is to test your knowledge in both implementing and testing with user-defined Classes and methods\n",
    "# to check your code implementation please just look at the sample solution"
   ]
  }
 ],
 "metadata": {
  "kernelspec": {
   "display_name": "Python 3 (ipykernel)",
   "language": "python",
   "name": "python3"
  },
  "language_info": {
   "codemirror_mode": {
    "name": "ipython",
    "version": 3
   },
   "file_extension": ".py",
   "mimetype": "text/x-python",
   "name": "python",
   "nbconvert_exporter": "python",
   "pygments_lexer": "ipython3",
   "version": "3.10.8"
  }
 },
 "nbformat": 4,
 "nbformat_minor": 5
}
