{
 "cells": [
  {
   "cell_type": "markdown",
   "metadata": {},
   "source": [
    "## Coding Question 1\n",
    "Problem statement: Write a Python program that: asks the user to input an integer value (in base 10) finds the smallest digit(s) of the representation of the integer value in base 10.\n",
    "\n",
    "Additional requirements Your solution should: not cast the integer value into a string value. use while loops"
   ]
  },
  {
   "cell_type": "code",
   "execution_count": null,
   "metadata": {},
   "outputs": [],
   "source": [
    "val = int(input())\n",
    "\n",
    "smallest = float('inf') #this is a universal maximum (infiniti)\n",
    "\n",
    "while val > 0:\n",
    "    #keep looping and check remainders of number when divded by 10 (val % 10 ) while keeping track of minima\n",
    "    \n",
    "    if  val % 10 < smallest: # calculate the current digit (right-most) by using %10\n",
    "        smallest = val % 10 # compare current digit to smallest, iteratively update smallest\n",
    "    \n",
    "    val = val // 10 # reduce value of 10 with integer division so can progress to next digit\n",
    "    \n",
    "print(smallest)"
   ]
  },
  {
   "cell_type": "markdown",
   "metadata": {},
   "source": [
    "## Coding Question 2\n",
    "Problem Statement Write a python program to find the first 9 prime numbers of the Fibonacci sequence.\n",
    "\n",
    "Recall that: Each number in the Fibonacci sequence is the sum of the two preceding ones. The sequence starts with 0 and 1.\n",
    "\n",
    "For example: 0, 1, 1, 2, 3, 5, 8, 13, 21, 34, 55, 89, 144, …\n",
    "\n",
    "Prime numbers are numbers that have only 2 factors: 1 and themselves"
   ]
  },
  {
   "cell_type": "code",
   "execution_count": null,
   "metadata": {},
   "outputs": [],
   "source": [
    "#Write a function to check if a number is prime. Your function should take in an integer \n",
    "#and return a boolean value (True if the input is prime and False otherwise). \n",
    "\n",
    "\n",
    "def check_primality(value):\n",
    "    \"\"\"(int) -> bool\n",
    "\n",
    "    Checks if the given integer is a prime number. A prime number is a natural number greater than 1 that has no \n",
    "    positive divisors other than 1 and itself.\n",
    "    This function returns True if the input number is prime, and False otherwise.\n",
    "    \"\"\"\n",
    "\n",
    "    # Early return for numbers less than 2\n",
    "    divisor = 2\n",
    "\n",
    "    # Check for factors from 2 up to the half of the value.\n",
    "    while divisor <= value // 2:\n",
    "\n",
    "        if value % divisor == 0: # check if remainer is zero, has a divisor in this case!\n",
    "            return False\n",
    "    \n",
    "        else:\n",
    "            divisor += 1\n",
    "\n",
    "    return True"
   ]
  },
  {
   "cell_type": "code",
   "execution_count": null,
   "metadata": {},
   "outputs": [],
   "source": [
    "# Write a while loop that:\n",
    "# at every iteration\n",
    "# generates the next number in the Fibonacci sequence\n",
    "# checks if the number just generated is a prime number using the function you implemented at Step 1\n",
    "# stops after 9 primes were generated\n",
    "\n",
    "\n",
    "\n",
    "counter = 0\n",
    "# Note: we start checking the value from the 4th value in the sequence, since we already know that the frist three values are not prime numbers\n",
    "n1 = 1  # 2nd value in the sequence\n",
    "n2 = 1 # 3rd value in the sequence\n",
    "while counter < 9:\n",
    "    nth = n1 + n2\n",
    "    \n",
    "    is_prime = check_primality(nth)\n",
    "  \n",
    "    if (is_prime):\n",
    "        print(nth)\n",
    "        counter += 1\n",
    "    \n",
    "    # update values\n",
    "    n1 = n2\n",
    "    n2 = nth"
   ]
  }
 ],
 "metadata": {
  "kernelspec": {
   "display_name": "base",
   "language": "python",
   "name": "python3"
  },
  "language_info": {
   "codemirror_mode": {
    "name": "ipython",
    "version": 3
   },
   "file_extension": ".py",
   "mimetype": "text/x-python",
   "name": "python",
   "nbconvert_exporter": "python",
   "pygments_lexer": "ipython3",
   "version": "3.8.5"
  }
 },
 "nbformat": 4,
 "nbformat_minor": 2
}
